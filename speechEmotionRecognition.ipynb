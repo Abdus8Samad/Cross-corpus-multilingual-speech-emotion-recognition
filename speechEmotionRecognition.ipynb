{
 "cells": [
  {
   "cell_type": "code",
   "execution_count": null,
   "metadata": {},
   "outputs": [],
   "source": [
    "import os,glob\n",
    "import numpy as np \n",
    "import pandas as pd\n",
    "import opensmile\n",
    "import librosa\n",
    "from sklearn.model_selection import train_test_split\n",
    "from sklearn.impute import SimpleImputer\n",
    "from sklearn.tree import DecisionTreeClassifier\n",
    "from sklearn.metrics import accuracy_score,classification_report\n",
    "from sklearn.feature_selection import SelectKBest,mutual_info_classif\n",
    "from imblearn.over_sampling import SMOTE\n",
    "from sklearn.preprocessing import StandardScaler\n",
    "from sklearn.ensemble import RandomForestClassifier,VotingClassifier\n",
    "from sklearn.svm import SVC"
   ]
  },
  {
   "cell_type": "markdown",
   "metadata": {},
   "source": [
    "Extracting features from audio files"
   ]
  },
  {
   "cell_type": "code",
   "execution_count": null,
   "metadata": {},
   "outputs": [],
   "source": [
    "def extractFeatures(fileName):\n",
    "    y, sr = librosa.load(fileName)\n",
    "\n",
    "    result=np.array([])\n",
    "\n",
    "    # extracting chroma features\n",
    "    stft=np.abs(librosa.stft(y))\n",
    "    chroma=np.median(librosa.feature.chroma_stft(S=stft, sr=sr).T,axis=0)\n",
    "    result=np.hstack((result, chroma))\n",
    "\n",
    "    # extracting mfcc features\n",
    "    mfccs=np.median(librosa.feature.mfcc(y=y, sr=sr, n_mfcc=40).T, axis=0)[:20]\n",
    "    result=np.hstack((result, mfccs))\n",
    "\n",
    "    # extracting rolloff features\n",
    "    rolloff = np.median(librosa.feature.spectral_rolloff(y=y, sr=sr, roll_percent=0.99).T,axis=0)\n",
    "    result=np.hstack((result, rolloff))\n",
    "\n",
    "    # extracting centroid features\n",
    "    centroid = np.median(librosa.feature.spectral_centroid(y=y, sr=sr).T,axis=0)\n",
    "    result=np.hstack((result, centroid))\n",
    "\n",
    "    # extracting bandwidth features\n",
    "    bandwidth = np.median(librosa.feature.spectral_bandwidth(y=y, sr=sr).T,axis=0)\n",
    "    result=np.hstack((result, bandwidth))\n",
    "\n",
    "    # extracting rms features\n",
    "    rms = np.median(librosa.feature.rms(y=y).T,axis=0)\n",
    "    result=np.hstack((result, rms))\n",
    "\n",
    "    # extracting fundamental frequency\n",
    "    f0=librosa.pyin(y=y, fmin=librosa.note_to_hz('c2'), fmax=librosa.note_to_hz('c7'))\n",
    "    f0=np.array(f0)\n",
    "\n",
    "    f0 = np.median(f0.T,axis=0)\n",
    "    result=np.hstack((result, f0))\n",
    "\n",
    "\n",
    "    # extracting contrast features\n",
    "    S = np.abs(librosa.stft(y))\n",
    "    contrast = np.median(librosa.feature.spectral_contrast(S=S, sr=sr).T,axis=0)\n",
    "    result=np.hstack((result, contrast))\n",
    "\n",
    "    # extracting zero crossing rate features\n",
    "    zeroCrossingRate=np.median(librosa.feature.zero_crossing_rate(y=y).T,axis=0)\n",
    "    result=np.hstack((result, zeroCrossingRate))\n",
    "\n",
    "    # extra eGeMAPS features\n",
    "    smile = opensmile.Smile(\n",
    "        feature_set=opensmile.FeatureSet.eGeMAPSv02,\n",
    "        feature_level=opensmile.FeatureLevel.Functionals,\n",
    "    )\n",
    "\n",
    "    eGeMAPS=smile.process_signal(y,sr)\n",
    "    eGeMAPS = np.median(eGeMAPS,axis=0)\n",
    "    result=np.hstack((result, eGeMAPS))\n",
    "\n",
    "    print(fileName)\n",
    "    return result"
   ]
  },
  {
   "cell_type": "markdown",
   "metadata": {},
   "source": [
    "Load all audio files from the dataset folder"
   ]
  },
  {
   "cell_type": "code",
   "execution_count": null,
   "metadata": {},
   "outputs": [],
   "source": [
    "def loadData(folderName, emotionsConditions):\n",
    "    x,y = [] , []\n",
    "    for folder in glob.glob(folderName):\n",
    "        for file in glob.glob(folder+'/*.wav'):\n",
    "            fileName = os.path.basename(file)\n",
    "            emotion = emotionsConditions(fileName)\n",
    "            feature = extractFeatures(file)\n",
    "            x.append(feature)\n",
    "            y.append(emotion)\n",
    "\n",
    "    # removing all nan values from features and replacing it\n",
    "    # with the mean of remaning values of the features\n",
    "    preprocessor = SimpleImputer(missing_values=np.nan, strategy='mean')\n",
    "    preprocessor.fit(x)\n",
    "    x = preprocessor.transform(x)\n",
    "\n",
    "    # Using SMOTE to oversample data to remove data imbalance\n",
    "    sm = SMOTE(k_neighbors=3,random_state=42)\n",
    "    x, y = sm.fit_resample(x, y)\n",
    "\n",
    "    # Shifting data to have mean value 0\n",
    "    x=x-np.mean(x)\n",
    "\n",
    "    # Normalising data : converting data value to value from 0 to 1\n",
    "    scaler = StandardScaler()\n",
    "    scaler.fit(x)\n",
    "    x = scaler.transform(x)\n",
    "\n",
    "\n",
    "    return x,y"
   ]
  },
  {
   "cell_type": "markdown",
   "metadata": {},
   "source": [
    "Function containing conditions to find emotion using filename in savee dataset\n",
    "Arguement : filename\n",
    "Returns : emotion of audio in filename"
   ]
  },
  {
   "cell_type": "code",
   "execution_count": null,
   "metadata": {},
   "outputs": [],
   "source": [
    "def saveeConditions(x):\n",
    "    if(x[0]=='s'):\n",
    "        if(x[1]=='a'):\n",
    "            return 'sadness'\n",
    "        else:\n",
    "            return 'surprised'\n",
    "    elif(x[0]=='a'): \n",
    "        return 'angry'\n",
    "    elif(x[0]=='d'): \n",
    "        return 'disgust'\n",
    "    elif(x[0]=='f'): \n",
    "        return 'fear'\n",
    "    elif(x[0]=='h'): \n",
    "        return 'happiness'\n",
    "    elif(x[0]=='n'): \n",
    "        return 'neutral'"
   ]
  },
  {
   "cell_type": "markdown",
   "metadata": {},
   "source": [
    "If the corresponding csv exists then no need ot extract features again, obtain features from the csv file\n",
    "If csv file does not exist then extract features and export features and corresponding emotions to csv file"
   ]
  },
  {
   "cell_type": "code",
   "execution_count": null,
   "metadata": {},
   "outputs": [],
   "source": [
    "if (os.path.isfile('saveeX.csv')):\n",
    "    df = pd.read_csv('saveeX.csv', delimiter=',')\n",
    "    saveeX = [np.array(x) for x in df.values]\n",
    "    df = pd.read_csv('saveeY.csv')\n",
    "    saveeY = [x[1] for x in df.values]\n",
    "else:\n",
    "    saveeX,saveeY=loadData('data/AudioData/*',saveeConditions)\n",
    "    df = pd.DataFrame(saveeX)\n",
    "    df.to_csv('saveeX.csv')\n",
    "    df = pd.DataFrame(saveeY)\n",
    "    df.to_csv('saveeY.csv')"
   ]
  },
  {
   "cell_type": "markdown",
   "metadata": {},
   "source": [
    "Function containing conditions to find emotion using filename in urdu dataset\n",
    "Arguement : filename\n",
    "Returns : emotion of audio in filename"
   ]
  },
  {
   "cell_type": "code",
   "execution_count": null,
   "metadata": {},
   "outputs": [],
   "source": [
    "def urduConditions(name):\n",
    "    x=name.split('_')[2] \n",
    "    if(x[0]=='A'): \n",
    "        return 'angry'\n",
    "    elif(x[0]=='N'): \n",
    "        return 'neutral'\n",
    "    elif(x[0]=='H'): \n",
    "        return 'happiness'\n",
    "    elif(x[0]=='S'): \n",
    "        return 'sadness'"
   ]
  },
  {
   "cell_type": "markdown",
   "metadata": {},
   "source": [
    "If the corresponding csv exists then no need ot extract features again, obtain features from the csv file\n",
    "If csv file does not exist then extract features and export features and corresponding emotions to csv file"
   ]
  },
  {
   "cell_type": "code",
   "execution_count": null,
   "metadata": {},
   "outputs": [],
   "source": [
    "if (os.path.isfile('urduX.csv')):\n",
    "    df = pd.read_csv('urduX.csv', delimiter=',')\n",
    "    urduX = [np.array(x) for x in df.values]\n",
    "    df = pd.read_csv('urduY.csv', delimiter=',')\n",
    "    urduY = [x[1] for x in df.values]\n",
    "else:\n",
    "    urduX,urduY=loadData('data/Urdu/*',urduConditions)\n",
    "    df = pd.DataFrame(urduX)\n",
    "    df.to_csv('urduX.csv')\n",
    "    df = pd.DataFrame(urduY)\n",
    "    df.to_csv('urduY.csv')"
   ]
  },
  {
   "cell_type": "markdown",
   "metadata": {},
   "source": [
    "Function containing conditions to find emotion using filename in emodb dataset\n",
    "Arguement : filename\n",
    "Returns : emotion of audio in filename\n"
   ]
  },
  {
   "cell_type": "code",
   "execution_count": null,
   "metadata": {},
   "outputs": [],
   "source": [
    "def emodbConditions(x):\n",
    "    if(x[5]=='A' or x[5]=='W'):\n",
    "        return 'angry'\n",
    "    elif(x[5]=='B' or x[5]=='L'): \n",
    "        return 'boredom'\n",
    "    elif(x[5]=='D' or x[5]=='E'): \n",
    "        return 'disgust'\n",
    "    elif(x[5]=='F' or x[5]=='A'): \n",
    "        return 'fear'\n",
    "    elif(x[5]=='H' or x[5]=='F'): \n",
    "        return 'happiness'\n",
    "    elif(x[5]=='S' or x[5]=='T'): \n",
    "        return 'sadness'\n",
    "    elif(x[5]=='N'):\n",
    "        return 'neutral'"
   ]
  },
  {
   "cell_type": "markdown",
   "metadata": {},
   "source": [
    "If the corresponding csv exists then no need ot extract features again, obtain features from the csv file\n",
    "If csv file does not exist then extract features and export features and corresponding emotions to csv file"
   ]
  },
  {
   "cell_type": "code",
   "execution_count": null,
   "metadata": {},
   "outputs": [],
   "source": [
    "if (os.path.isfile('emodbX.csv')):\n",
    "    df = pd.read_csv('emodbX.csv', delimiter=',')\n",
    "    emodbX = [np.array(x) for x in df.values]\n",
    "    df = pd.read_csv('emodbY.csv', delimiter=',')\n",
    "    emodbY = [x[1] for x in df.values]\n",
    "else:\n",
    "    emodbX,emodbY=loadData('data/emo-db/*',emodbConditions)\n",
    "    df = pd.DataFrame(emodbX)\n",
    "    df.to_csv('emodbX.csv')\n",
    "    df = pd.DataFrame(emodbY)\n",
    "    df.to_csv('emodbY.csv')"
   ]
  },
  {
   "cell_type": "markdown",
   "metadata": {},
   "source": [
    "Function containing conditions to find emotion using filename in emovo dataset\n",
    "Arguement : filename\n",
    "Returns : emotion of audio in filename\n"
   ]
  },
  {
   "cell_type": "code",
   "execution_count": null,
   "metadata": {},
   "outputs": [],
   "source": [
    "def emovoConditions(name):\n",
    "    x=name.split('-')[0] \n",
    "    if(x==\"rab\"): \n",
    "        return 'angry'\n",
    "    elif(x==\"neu\"): \n",
    "        return 'neutral'\n",
    "    elif(x==\"gio\"): \n",
    "        return 'happiness'\n",
    "    elif(x==\"tri\"): \n",
    "        return 'sadness'\n",
    "    elif(x==\"pau\"): \n",
    "        return 'fear'\n",
    "    elif(x==\"sor\"): \n",
    "        return 'surprise'\n",
    "    elif(x==\"dis\"): \n",
    "        return 'disgust'"
   ]
  },
  {
   "cell_type": "markdown",
   "metadata": {},
   "source": [
    "If the corresponding csv exists then no need ot extract features again, obtain features from the csv file\n",
    "If csv file does not exist then extract features and export features and corresponding emotions to csv file"
   ]
  },
  {
   "cell_type": "code",
   "execution_count": null,
   "metadata": {},
   "outputs": [],
   "source": [
    "if (os.path.isfile('emovoX.csv')):\n",
    "    df = pd.read_csv('emovoX.csv', delimiter=',')\n",
    "    emovoX = [np.array(x) for x in df.values]\n",
    "    df = pd.read_csv('emovoY.csv', delimiter=',')\n",
    "    emovoY = [x[1] for x in df.values]\n",
    "else:\n",
    "    emovoX,emovoY=loadData('data/emovo/EMOVO/*',emovoConditions)\n",
    "    df = pd.DataFrame(emovoX)\n",
    "    df.to_csv('emovoX.csv')\n",
    "    df = pd.DataFrame(emovoY)\n",
    "    df.to_csv('emovoY.csv')"
   ]
  },
  {
   "cell_type": "markdown",
   "metadata": {},
   "source": [
    "Calculate accuracy using test results and predicted results of the classifier\n",
    "Arguements: test dataset results and predicted results \n",
    "Returns: void ( prints the accuracy and classification report)"
   ]
  },
  {
   "cell_type": "code",
   "execution_count": null,
   "metadata": {},
   "outputs": [],
   "source": [
    "def cal_accuracy(y_test, y_pred):\n",
    "    print (\"Accuracy : \",\n",
    "    accuracy_score(y_test,y_pred)*100)\n",
    "      \n",
    "    print(\"Report : \",\n",
    "    classification_report(y_test, y_pred))"
   ]
  },
  {
   "cell_type": "markdown",
   "metadata": {},
   "source": [
    "SMO classifier"
   ]
  },
  {
   "cell_type": "code",
   "execution_count": null,
   "metadata": {},
   "outputs": [],
   "source": [
    "def SMO(x_train, x_test, y_train, y_test):\n",
    "    svm_model_linear = SVC(gamma='auto')\n",
    "    clf_return = svm_model_linear\n",
    "    svm_model_linear.fit(x_train, y_train) \n",
    "    svm_predictions = svm_model_linear.predict(x_test) \n",
    "    print(\"Results Using Support Vector Machine: \")\n",
    "    cal_accuracy(y_test, svm_predictions)\n",
    "    return clf_return"
   ]
  },
  {
   "cell_type": "markdown",
   "metadata": {},
   "source": [
    "decision tree classifier"
   ]
  },
  {
   "cell_type": "code",
   "execution_count": null,
   "metadata": {},
   "outputs": [],
   "source": [
    "def decisionTree(x_train,x_test,y_train,y_test):\n",
    "    \n",
    "    clf = DecisionTreeClassifier(\n",
    "                criterion = \"entropy\", random_state = 100,\n",
    "                max_depth = 15, min_samples_leaf = 5)\n",
    "      \n",
    "    clf_return = clf\n",
    "    clf.fit(x_train, y_train)\n",
    "      \n",
    "    y_pred = clf.predict(x_test)\n",
    "    \n",
    "    print(\"Results Using decision tree:\")\n",
    "    cal_accuracy(y_test, y_pred)\n",
    "\n",
    "    return clf_return "
   ]
  },
  {
   "cell_type": "markdown",
   "metadata": {},
   "source": [
    "random forest classifier"
   ]
  },
  {
   "cell_type": "code",
   "execution_count": null,
   "metadata": {},
   "outputs": [],
   "source": [
    "def random_forest(x_train, x_test, y_train, y_test):\n",
    "\n",
    "    model = RandomForestClassifier(n_estimators=100, max_depth=5, random_state=100)\n",
    "    clf_return = model\n",
    "    model.fit(x_train, y_train)\n",
    "    y_pred = model.predict(x_test)\n",
    "\n",
    "    print(\"Results Using random forest:\")\n",
    "    cal_accuracy(y_test, y_pred)\n",
    "\n",
    "    return model"
   ]
  },
  {
   "cell_type": "markdown",
   "metadata": {},
   "source": [
    "ensemble classifier using majority voting"
   ]
  },
  {
   "cell_type": "code",
   "execution_count": null,
   "metadata": {},
   "outputs": [],
   "source": [
    "def ensemble(x_train,x_test,y_train,y_test,dt_clf,rf_clf,smo_clf):\n",
    "    clf = VotingClassifier(\n",
    "        estimators=[('dt', dt_clf), ('smo', smo_clf), ('rf', rf_clf)],\n",
    "        voting='hard'\n",
    "    )\n",
    "      \n",
    "    clf_return = clf\n",
    "    clf.fit(x_train, y_train)\n",
    "      \n",
    "    y_pred = clf.predict(x_test)\n",
    "    \n",
    "    print(\"Results Using ensemble:\")\n",
    "    cal_accuracy(y_test, y_pred)\n",
    "\n",
    "    return clf_return "
   ]
  },
  {
   "cell_type": "markdown",
   "metadata": {},
   "source": [
    "Function takes training and testing data and pass it to different classifiers"
   ]
  },
  {
   "cell_type": "code",
   "execution_count": null,
   "metadata": {},
   "outputs": [],
   "source": [
    "def classify(x_train_pre,x_test_pre,y_train_pre,y_test_pre):\n",
    "\n",
    "    length = len(x_test_pre)   \n",
    "\n",
    "    # removing unobserved data from training and testing dataset\n",
    "    y_test=[]\n",
    "    x_test=[]\n",
    "    for i in range(length):\n",
    "        if y_test_pre[i] in y_train_pre:\n",
    "            y_test.append(y_test_pre[i])\n",
    "            x_test.append(x_test_pre[i])\n",
    "\n",
    "\n",
    "    length = len(x_train_pre)   \n",
    "    y_train=[]\n",
    "    x_train=[]\n",
    "    for i in range(length):\n",
    "        if y_train_pre[i] in y_test:\n",
    "            y_train.append(y_train_pre[i])\n",
    "            x_train.append(x_train_pre[i])\n",
    "\n",
    "    # feature selection using k best selection method\n",
    "    selector= SelectKBest(mutual_info_classif, k=35)\n",
    "    x_train= selector.fit_transform(x_train,y_train)\n",
    "    x_test=selector.transform(x_test)\n",
    "    \n",
    "\n",
    "    dt_clf=decisionTree(x_train,x_test,y_train,y_test)\n",
    "    rf_clf=random_forest(x_train,x_test,y_train,y_test)\n",
    "    smo_clf=SMO(x_train,x_test,y_train,y_test)\n",
    "    ensemble(x_train,x_test,y_train,y_test,dt_clf,rf_clf,smo_clf)  "
   ]
  },
  {
   "cell_type": "markdown",
   "metadata": {},
   "source": [
    "Splitting datasets into training and testing dataset"
   ]
  },
  {
   "cell_type": "code",
   "execution_count": null,
   "metadata": {},
   "outputs": [],
   "source": [
    "urdu_x_train, urdu_x_test, urdu_y_train, urdu_y_test = train_test_split(urduX, urduY, test_size=0.33, random_state=42)\n",
    "savee_x_train, savee_x_test, savee_y_train, savee_y_test = train_test_split(saveeX, saveeY, test_size=0.25, random_state=42)\n",
    "emodb_x_train, emodb_x_test, emodb_y_train, emodb_y_test = train_test_split(emodbX, emodbY, test_size=0.25, random_state=42)\n",
    "emovo_x_train, emovo_x_test, emovo_y_train, emovo_y_test = train_test_split(emovoX, emovoY, test_size=0.25, random_state=42)"
   ]
  },
  {
   "cell_type": "markdown",
   "metadata": {},
   "source": [
    "In corpus tesing : training and testing on same dataset"
   ]
  },
  {
   "cell_type": "code",
   "execution_count": null,
   "metadata": {},
   "outputs": [],
   "source": [
    "print(\"In Corpus Testing\")\n",
    "\n",
    "print(\"train - Savee      test-Savee\")\n",
    "classify(savee_x_train,savee_x_test,savee_y_train,savee_y_test)"
   ]
  },
  {
   "cell_type": "code",
   "execution_count": null,
   "metadata": {},
   "outputs": [],
   "source": [
    "print(\"train - urdu      test-urdu\")\n",
    "classify(urdu_x_train,urdu_x_test,urdu_y_train,urdu_y_test)"
   ]
  },
  {
   "cell_type": "code",
   "execution_count": null,
   "metadata": {},
   "outputs": [],
   "source": [
    "print(\"train - emodb      test-emodb\")\n",
    "classify(emodb_x_train,emodb_x_test,emodb_y_train,emodb_y_test)"
   ]
  },
  {
   "cell_type": "code",
   "execution_count": null,
   "metadata": {},
   "outputs": [],
   "source": [
    "print(\"train - emovo      test-emovo\")\n",
    "classify(emovo_x_train,emovo_x_test,emovo_y_train,emovo_y_test)"
   ]
  },
  {
   "cell_type": "markdown",
   "metadata": {},
   "source": [
    "Cross corpus testing : training and testing on different dataset"
   ]
  },
  {
   "cell_type": "code",
   "execution_count": null,
   "metadata": {},
   "outputs": [],
   "source": [
    "print(\"Cross Corpus Testing\")\n",
    "\n",
    "print(\"train - Urdu      test-Savee\")\n",
    "classify(urduX,savee_x_test,urduY,savee_y_test)"
   ]
  },
  {
   "cell_type": "code",
   "execution_count": null,
   "metadata": {},
   "outputs": [],
   "source": [
    "print(\"train - Urdu      test-emodb\")\n",
    "classify(urduX,emodb_x_test,urduY,emodb_y_test)\n"
   ]
  },
  {
   "cell_type": "code",
   "execution_count": null,
   "metadata": {},
   "outputs": [],
   "source": [
    "print(\"train - Urdu      test-emovo\")\n",
    "classify(urduX,emovo_x_test,urduY,emovo_y_test)"
   ]
  },
  {
   "cell_type": "code",
   "execution_count": null,
   "metadata": {},
   "outputs": [],
   "source": [
    "print(\"train - savee      test-urdu\")\n",
    "classify(saveeX,urdu_x_test,saveeY,urdu_y_test)"
   ]
  },
  {
   "cell_type": "code",
   "execution_count": null,
   "metadata": {},
   "outputs": [],
   "source": [
    "print(\"train - emodb      test-urdu\")\n",
    "classify(emodbX,urdu_x_test,emodbY,urdu_y_test)"
   ]
  },
  {
   "cell_type": "code",
   "execution_count": null,
   "metadata": {},
   "outputs": [],
   "source": [
    "print(\"train - emovo      test-urdu\")\n",
    "classify(emovoX,urdu_x_test,emovoY,urdu_y_test)"
   ]
  }
 ],
 "metadata": {
  "kernelspec": {
   "display_name": "Python 3.10.4 64-bit",
   "language": "python",
   "name": "python3"
  },
  "language_info": {
   "name": "python",
   "version": "3.10.4"
  },
  "orig_nbformat": 4,
  "vscode": {
   "interpreter": {
    "hash": "369f2c481f4da34e4445cda3fffd2e751bd1c4d706f27375911949ba6bb62e1c"
   }
  }
 },
 "nbformat": 4,
 "nbformat_minor": 2
}
